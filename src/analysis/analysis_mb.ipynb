{
 "cells": [
  {
   "cell_type": "markdown",
   "metadata": {},
   "source": [
    "# For each epic, I'll visualize some data and look for a trend, relationship, or pattern.\n"
   ]
  },
  {
   "cell_type": "markdown",
   "metadata": {},
   "source": [
    "Start with imports\n"
   ]
  },
  {
   "cell_type": "code",
   "execution_count": 1,
   "metadata": {
    "ExecuteTime": {
     "end_time": "2023-10-12T09:43:21.502516800Z",
     "start_time": "2023-10-12T09:43:21.325293400Z"
    }
   },
   "outputs": [
    {
     "data": {
      "text/plain": [
       "True"
      ]
     },
     "execution_count": 1,
     "metadata": {},
     "output_type": "execute_result"
    }
   ],
   "source": [
    "import dotenv\n",
    "import pandas as pd\n",
    "import matplotlib.pyplot as plt\n",
    "from sqlalchemy import create_engine, text\n",
    "import os\n",
    "import numpy as np\n",
    "import seaborn as sns\n",
    "\n",
    "dotenv.load_dotenv()"
   ]
  },
  {
   "cell_type": "code",
   "execution_count": 2,
   "metadata": {
    "ExecuteTime": {
     "end_time": "2023-10-12T09:43:21.665912500Z",
     "start_time": "2023-10-12T09:43:21.506515700Z"
    }
   },
   "outputs": [
    {
     "data": {
      "text/plain": [
       "'Microsoft SQL Server 2022 (RTM) - 16.0.1000.6 (X64) \\n\\tOct  8 2022 05:58:25 \\n\\tCopyright (C) 2022 Microsoft Corporation\\n\\tDeveloper Edition (64-bit) on Windows 10 Home 10.0 <X64> (Build 19045: ) (Hypervisor)\\n'"
      ]
     },
     "execution_count": 2,
     "metadata": {},
     "output_type": "execute_result"
    }
   ],
   "source": [
    "# Start db\n",
    "def create_conn():\n",
    "    driver = os.getenv(\"DB_DRIVER\")\n",
    "    server = os.getenv(\"DB_SERVER\")\n",
    "    database = os.getenv(\"DB_NAME\")\n",
    "    trusted_connection = os.getenv(\"DB_TRUSTED_CONNECTION\")\n",
    "\n",
    "    return create_engine(\n",
    "        f\"mssql+pyodbc://{server}/{database}?trusted_connection={trusted_connection}&driver={driver}\"\n",
    "    )\n",
    "\n",
    "\n",
    "engine = create_conn()\n",
    "# Test connection\n",
    "connection = engine.connect()\n",
    "res = connection.execute(text(\"SELECT @@version;\")).fetchone()\n",
    "connection.close()\n",
    "res[0]"
   ]
  },
  {
   "cell_type": "markdown",
   "metadata": {
    "collapsed": false
   },
   "source": [
    "## Database Diagram\n",
    "\n",
    "- An ERD of all the tables in the database\n",
    "  ![Database Diagram](../../public/Database_diagram.png)\n"
   ]
  },
  {
   "cell_type": "markdown",
   "metadata": {},
   "source": [
    "## Epic 3\n",
    "\n",
    "Epic 3: (must have)\n",
    "• Als een key user wil ik voor een contact een lijst met toekomstige campagnes genereren volgens de waarschijnlijkheid dat ze zou inschrijven volgens vorige inschrijvingen, afspraken, eigenschappen van de contact zelf en zijn bedrijf, lookalikes etc.\n"
   ]
  },
  {
   "cell_type": "markdown",
   "metadata": {},
   "source": [
    "### Data die hierbij nodig zal zijn:\n",
    "\n",
    "- Contact, campagnes, inschrijvingen & afspraken\n",
    "- Feitelijke tabellen: contact, inschrijving, sessie_inschrijving, sessie, campagne, account,\n",
    "  - (optional: cdi_visit, persoon, financiele data, lidmaatschap)\n"
   ]
  },
  {
   "cell_type": "code",
   "execution_count": 3,
   "metadata": {
    "ExecuteTime": {
     "end_time": "2023-10-12T09:54:13.211695100Z",
     "start_time": "2023-10-12T09:54:13.195760100Z"
    },
    "collapsed": false
   },
   "outputs": [
    {
     "data": {
      "text/html": [
       "<div>\n",
       "<style scoped>\n",
       "    .dataframe tbody tr th:only-of-type {\n",
       "        vertical-align: middle;\n",
       "    }\n",
       "\n",
       "    .dataframe tbody tr th {\n",
       "        vertical-align: top;\n",
       "    }\n",
       "\n",
       "    .dataframe thead th {\n",
       "        text-align: right;\n",
       "    }\n",
       "</style>\n",
       "<table border=\"1\" class=\"dataframe\">\n",
       "  <thead>\n",
       "    <tr style=\"text-align: right;\">\n",
       "      <th></th>\n",
       "      <th>crm_campagne_id</th>\n",
       "      <th>crm_campagne_campagne_nr</th>\n",
       "      <th>crm_campagne_einddatum</th>\n",
       "      <th>crm_campagne_naam</th>\n",
       "      <th>crm_campagne_naam_in_email</th>\n",
       "      <th>crm_campagne_reden_van_status</th>\n",
       "      <th>crm_campagne_startdatum</th>\n",
       "      <th>crm_campagne_status</th>\n",
       "      <th>crm_campagne_type_campagne</th>\n",
       "      <th>crm_campagne_url_voka_be</th>\n",
       "      <th>crm_campagne_soort_campagne</th>\n",
       "    </tr>\n",
       "  </thead>\n",
       "  <tbody>\n",
       "    <tr>\n",
       "      <th>0</th>\n",
       "      <td>B4E3E30A-E6CA-EC11-A7B5-000D3A20A90F</td>\n",
       "      <td>22-OV-06-0017</td>\n",
       "      <td>2022-06-15 12:00:00</td>\n",
       "      <td>OV-NW/DO-Quick Refresh-Webinar-Energiedelen</td>\n",
       "      <td>Voka's Quick Refresh - Energiedelen en energie...</td>\n",
       "      <td>Voltooid</td>\n",
       "      <td>2022-06-15 11:00:00</td>\n",
       "      <td>Actief</td>\n",
       "      <td>Infosessie</td>\n",
       "      <td>https://www.voka.be/quickrefresh</td>\n",
       "      <td>Online</td>\n",
       "    </tr>\n",
       "    <tr>\n",
       "      <th>1</th>\n",
       "      <td>FAFBC509-F82C-ED11-9DB1-000D3A2279F0</td>\n",
       "      <td>22-OV-01-0162</td>\n",
       "      <td>2022-10-17 21:00:00</td>\n",
       "      <td>OV-NW-Voka Politica Eeklo 2022</td>\n",
       "      <td>Voka Politica in Eeklo met aansluitend bedrijf...</td>\n",
       "      <td>Voltooid</td>\n",
       "      <td>2022-10-17 17:00:00</td>\n",
       "      <td>Actief</td>\n",
       "      <td>Netwerkevenement</td>\n",
       "      <td>https://www.voka.be/activiteiten/voka-politica...</td>\n",
       "      <td>Offline</td>\n",
       "    </tr>\n",
       "    <tr>\n",
       "      <th>2</th>\n",
       "      <td>3CFB2D89-D701-ED11-82E5-000D3A2A9467</td>\n",
       "      <td>22-OV-01-0128</td>\n",
       "      <td>2022-11-21 10:00:00</td>\n",
       "      <td>OV-NW-Voka Politica Zwijnaarde 2022</td>\n",
       "      <td>Voka Politica in Zwijnaarde 2022</td>\n",
       "      <td>Voltooid</td>\n",
       "      <td>2022-11-21 08:00:00</td>\n",
       "      <td>Actief</td>\n",
       "      <td>Netwerkevenement</td>\n",
       "      <td>https://www.voka.be/activiteiten/voka-politica...</td>\n",
       "      <td>Offline</td>\n",
       "    </tr>\n",
       "    <tr>\n",
       "      <th>3</th>\n",
       "      <td>3F6A625E-1C04-ED11-82E5-000D3A2A9A9A</td>\n",
       "      <td>22-OV-01-0131</td>\n",
       "      <td>2022-11-17 18:00:00</td>\n",
       "      <td>OV-NW/IO-XpertFinder Logistiek - november 2022...</td>\n",
       "      <td>OV-NW/IO-XpertFinder Logistiek - november 2022...</td>\n",
       "      <td>Voltooid</td>\n",
       "      <td>2022-11-17 12:00:00</td>\n",
       "      <td>Actief</td>\n",
       "      <td>Netwerkevenement</td>\n",
       "      <td>None</td>\n",
       "      <td>Offline</td>\n",
       "    </tr>\n",
       "    <tr>\n",
       "      <th>4</th>\n",
       "      <td>70570D05-1D04-ED11-82E5-000D3A2A9A9A</td>\n",
       "      <td>22-OV-06-0026</td>\n",
       "      <td>2022-11-17 18:00:00</td>\n",
       "      <td>OV-NW/IN-XpertFinder Logistiek - november 2022...</td>\n",
       "      <td>OV-NW/IN-XpertFinder Logistiek - november 2022...</td>\n",
       "      <td>Voltooid</td>\n",
       "      <td>2022-11-17 12:00:00</td>\n",
       "      <td>Actief</td>\n",
       "      <td>Infosessie</td>\n",
       "      <td>None</td>\n",
       "      <td>Offline</td>\n",
       "    </tr>\n",
       "  </tbody>\n",
       "</table>\n",
       "</div>"
      ],
      "text/plain": [
       "                        crm_campagne_id crm_campagne_campagne_nr  \\\n",
       "0  B4E3E30A-E6CA-EC11-A7B5-000D3A20A90F            22-OV-06-0017   \n",
       "1  FAFBC509-F82C-ED11-9DB1-000D3A2279F0            22-OV-01-0162   \n",
       "2  3CFB2D89-D701-ED11-82E5-000D3A2A9467            22-OV-01-0128   \n",
       "3  3F6A625E-1C04-ED11-82E5-000D3A2A9A9A            22-OV-01-0131   \n",
       "4  70570D05-1D04-ED11-82E5-000D3A2A9A9A            22-OV-06-0026   \n",
       "\n",
       "  crm_campagne_einddatum                                  crm_campagne_naam  \\\n",
       "0    2022-06-15 12:00:00        OV-NW/DO-Quick Refresh-Webinar-Energiedelen   \n",
       "1    2022-10-17 21:00:00                     OV-NW-Voka Politica Eeklo 2022   \n",
       "2    2022-11-21 10:00:00                OV-NW-Voka Politica Zwijnaarde 2022   \n",
       "3    2022-11-17 18:00:00  OV-NW/IO-XpertFinder Logistiek - november 2022...   \n",
       "4    2022-11-17 18:00:00  OV-NW/IN-XpertFinder Logistiek - november 2022...   \n",
       "\n",
       "                          crm_campagne_naam_in_email  \\\n",
       "0  Voka's Quick Refresh - Energiedelen en energie...   \n",
       "1  Voka Politica in Eeklo met aansluitend bedrijf...   \n",
       "2                   Voka Politica in Zwijnaarde 2022   \n",
       "3  OV-NW/IO-XpertFinder Logistiek - november 2022...   \n",
       "4  OV-NW/IN-XpertFinder Logistiek - november 2022...   \n",
       "\n",
       "  crm_campagne_reden_van_status crm_campagne_startdatum crm_campagne_status  \\\n",
       "0                      Voltooid     2022-06-15 11:00:00              Actief   \n",
       "1                      Voltooid     2022-10-17 17:00:00              Actief   \n",
       "2                      Voltooid     2022-11-21 08:00:00              Actief   \n",
       "3                      Voltooid     2022-11-17 12:00:00              Actief   \n",
       "4                      Voltooid     2022-11-17 12:00:00              Actief   \n",
       "\n",
       "  crm_campagne_type_campagne  \\\n",
       "0                 Infosessie   \n",
       "1           Netwerkevenement   \n",
       "2           Netwerkevenement   \n",
       "3           Netwerkevenement   \n",
       "4                 Infosessie   \n",
       "\n",
       "                            crm_campagne_url_voka_be  \\\n",
       "0                   https://www.voka.be/quickrefresh   \n",
       "1  https://www.voka.be/activiteiten/voka-politica...   \n",
       "2  https://www.voka.be/activiteiten/voka-politica...   \n",
       "3                                               None   \n",
       "4                                               None   \n",
       "\n",
       "  crm_campagne_soort_campagne  \n",
       "0                      Online  \n",
       "1                     Offline  \n",
       "2                     Offline  \n",
       "3                     Offline  \n",
       "4                     Offline  "
      ]
     },
     "execution_count": 3,
     "metadata": {},
     "output_type": "execute_result"
    }
   ],
   "source": [
    "# Get the data\n",
    "query = \"SELECT * FROM campagne\"\n",
    "\n",
    "df_campagnes = pd.read_sql(query, engine)\n",
    "df_campagnes.head()"
   ]
  },
  {
   "cell_type": "code",
   "execution_count": 4,
   "metadata": {
    "ExecuteTime": {
     "end_time": "2023-10-12T09:55:45.479011600Z",
     "start_time": "2023-10-12T09:55:45.318414900Z"
    },
    "collapsed": false
   },
   "outputs": [
    {
     "data": {
      "image/png": "[encoded data removed]",
      "text/plain": [
       "<Figure size 640x480 with 1 Axes>"
      ]
     },
     "metadata": {},
     "output_type": "display_data"
    }
   ],
   "source": [
    "# Create a plot of the number of campaigns per year\n",
    "\n",
    "df_campagnes[\"jaar\"] = df_campagnes[\"crm_campagne_startdatum\"].dt.year\n",
    "df_campagnes[\"maand\"] = df_campagnes[\"crm_campagne_startdatum\"].dt.month\n",
    "df_campagnes[\"dag\"] = df_campagnes[\"crm_campagne_startdatum\"].dt.day\n",
    "\n",
    "sns.countplot(x=\"jaar\", data=df_campagnes)\n",
    "plt.show()"
   ]
  },
  {
   "cell_type": "code",
   "execution_count": 5,
   "metadata": {
    "ExecuteTime": {
     "end_time": "2023-10-12T09:56:35.791578Z",
     "start_time": "2023-10-12T09:56:35.658121400Z"
    },
    "collapsed": false
   },
   "outputs": [
    {
     "data": {
      "image/png": "[encoded data removed]",
      "text/plain": [
       "<Figure size 640x480 with 1 Axes>"
      ]
     },
     "metadata": {},
     "output_type": "display_data"
    }
   ],
   "source": [
    "# Create a plot of the total number of campaigns, and the different types of campaigns\n",
    "\n",
    "df_campagnes[\"crm_campagne_type_campagne\"].value_counts().plot(kind=\"bar\")\n",
    "plt.show()"
   ]
  },
  {
   "cell_type": "markdown",
   "metadata": {},
   "source": [
    "## Epic 4\n",
    "\n",
    "Epic 4: (should have)\n",
    "• Als een key user kan ik voor een contact met weinig transacties een lookalike met veel transacties identificeren. Ik kan ook een clustering maken van contactpersonen die qua functie, bedrijfseigenschappen, gedrag en (verwacht) gedrag\n"
   ]
  },
  {
   "cell_type": "markdown",
   "metadata": {},
   "source": [
    "## Epic 5\n",
    "\n",
    "Epic 5: (should have)\n",
    "• Als een key user kan ik voor een campagne een lijst met contacten genereren volgens de waarschijnlijkheid om in te schrijven voor de campagne. Ik wil in de sortering ook ervoor zorgen dat contacten met weinig marketing pressure bevoordeeld worden ten opzichte van contacten met een hoge marketing pressure.\n"
   ]
  },
  {
   "cell_type": "markdown",
   "metadata": {},
   "source": [
    "## Epic 7\n",
    "\n",
    "Epic 7: (nice to have)\n",
    "• Als een key user kan ik een hypergepersonaliseerde tekst voor een prospectie email laten opstellen, waarbij een aanleiding voor contact wordt vermeld en de meest relevante campagnes en diensten voorgesteld worden\n"
   ]
  }
 ],
 "metadata": {
  "kernelspec": {
   "display_name": "venv",
   "language": "python",
   "name": "python3"
  },
  "language_info": {
   "codemirror_mode": {
    "name": "ipython",
    "version": 3
   },
   "file_extension": ".py",
   "mimetype": "text/x-python",
   "name": "python",
   "nbconvert_exporter": "python",
   "pygments_lexer": "ipython3",
   "version": "3.11.2"
  }
 },
 "nbformat": 4,
 "nbformat_minor": 2
}
